{
 "cells": [
  {
   "cell_type": "markdown",
   "metadata": {
    "id": "GLJ1r5LTTZzT"
   },
   "source": [
    "# 4 Preprocessing and Training<a id='4_Preprocessing_and_Training'></a>"
   ]
  },
  {
   "cell_type": "markdown",
   "metadata": {
    "id": "0GXZZFxhTZzZ"
   },
   "source": [
    "## 4.1 Contents<a id='4.1_Contents'></a>\n",
    "* [4 Preprocessing and Training](#4_Preprocessing_and_Training)\n",
    "  * [4.1 Contents](#4.1_Contents)\n",
    "  * [4.2 Introduction](#4.2_Introduction)\n",
    "  * [4.3 Imports](#4.3_Imports)\n",
    "  * [4.4 Load Data](#4.4_Load_Data)\n",
    "  * [4.5 Data Cleaning](#4.5_Data_Cleaning)\n",
    "  * [4.6 Split Dataset](#4.6_Split_Dataset)\n",
    "  * [4.7 Preprocessing](#4.7_Preprocessing)\n",
    "      * [4.7.1 Cadegorical Variable Cleaning](#4.7.1_Cadegorical_Variable_Cleaning)\n",
    "      * [4.7.2 Label Encoding](#4.7.2_Label_Encoding)\n",
    "      * [4.7.3 Train Test Split](#4.7.3_Train_Test_Split)\n",
    "      * [4.7.4 Balancing the Data](#4.7.4_Balancing_the_Data)\n",
    "      * [4.7.5 Feature Selection with RFE](#4.7.5_Feature_Selection_with_RFE)\n",
    "  * [4.8 Training Models](#4.8_Training_Models)\n",
    "      * [4.8.1 Dummy Classifier](#4.8.1_Dummy_Classifier)\n",
    "      * [4.8.2 Random Forest](#4.8.2_Random_Forest)\n",
    "      * [4.8.3 XGBoost](#4.8.3_XGBoost)\n",
    "  * [4.9 Save the Model](#4.9_Save_the_Model)"
   ]
  },
  {
   "cell_type": "markdown",
   "metadata": {
    "id": "-cNOd1VmTZza"
   },
   "source": [
    "## 4.2 Introduction<a id='4.2_Introduction'></a>"
   ]
  },
  {
   "cell_type": "markdown",
   "metadata": {
    "id": "eNSjmJaKTZza"
   },
   "source": [
    "In this notebook I am going to first do some final data cleaning. Then, I will do preprocessing of categorical features, balance the data, and select features with RFE. Next, I will split the training data into training and test splits. Finally, I will train different models to determine which model will be used to predict the holdout set."
   ]
  },
  {
   "cell_type": "markdown",
   "metadata": {
    "id": "ChugU8qiTZza"
   },
   "source": [
    "## 4.3 Imports<a id='4.3_Imports'></a>"
   ]
  },
  {
   "cell_type": "code",
   "execution_count": 1,
   "metadata": {
    "colab": {
     "base_uri": "https://localhost:8080/"
    },
    "id": "zdvkTejvTZzb",
    "outputId": "4b87856c-07fd-4c46-98a8-f02f8a01b7dc"
   },
   "outputs": [
    {
     "name": "stderr",
     "output_type": "stream",
     "text": [
      "/usr/local/lib/python3.7/dist-packages/sklearn/externals/six.py:31: FutureWarning: The module is deprecated in version 0.21 and will be removed in version 0.23 since we've dropped support for Python 2.7. Please rely on the official version of six (https://pypi.org/project/six/).\n",
      "  \"(https://pypi.org/project/six/).\", FutureWarning)\n",
      "/usr/local/lib/python3.7/dist-packages/sklearn/utils/deprecation.py:144: FutureWarning: The sklearn.neighbors.base module is  deprecated in version 0.22 and will be removed in version 0.24. The corresponding classes / functions should instead be imported from sklearn.neighbors. Anything that cannot be imported from sklearn.neighbors is now part of the private API.\n",
      "  warnings.warn(message, FutureWarning)\n"
     ]
    }
   ],
   "source": [
    "# import the necessary packages\n",
    "import pandas as pd\n",
    "import numpy as np\n",
    "import matplotlib.pyplot as plt\n",
    "from sklearn.preprocessing import StandardScaler, LabelEncoder\n",
    "from sklearn.model_selection import train_test_split, GridSearchCV\n",
    "from numpy import savetxt, where, loadtxt\n",
    "from collections import Counter\n",
    "from sklearn.datasets import make_classification\n",
    "from imblearn.over_sampling import SMOTE\n",
    "from imblearn.under_sampling import RandomUnderSampler\n",
    "from sklearn.feature_selection import RFE\n",
    "from sklearn.ensemble import RandomForestClassifier\n",
    "from imblearn.pipeline import Pipeline as imbPipeline\n",
    "from sklearn.pipeline import Pipeline\n",
    "from sklearn.dummy import DummyClassifier\n",
    "from sklearn.tree import DecisionTreeClassifier\n",
    "from sklearn.metrics import roc_curve, roc_auc_score, precision_score, recall_score, f1_score\n",
    "from sklearn.metrics import classification_report, confusion_matrix, plot_confusion_matrix\n",
    "from sklearn.metrics import precision_recall_curve, auc\n",
    "from sklearn.model_selection import RandomizedSearchCV, GridSearchCV\n",
    "from sklearn.ensemble import RandomForestClassifier\n",
    "import xgboost as xgb\n",
    "from sklearn import __version__ as sklearn_version\n",
    "import datetime"
   ]
  },
  {
   "cell_type": "markdown",
   "metadata": {
    "id": "VwIOYMMcTZzb"
   },
   "source": [
    "## 4.4 Load Data<a id='4.4_Load_Data'></a>"
   ]
  },
  {
   "cell_type": "markdown",
   "metadata": {
    "id": "8AZi26gXTZzc"
   },
   "source": [
    "In the previous notebook I saved the data as 'lc_step3.csv'. The hold-out dataset was saved in the data wrangling notebook as 'LC_2016_2017_cleaned.csv'. I will load this data now. "
   ]
  },
  {
   "cell_type": "code",
   "execution_count": 2,
   "metadata": {
    "id": "PVc4zppqTZzc"
   },
   "outputs": [],
   "source": [
    "#df = pd.read_csv('../data/cleaned_data/lc_step3.csv', index_col = 'id', parse_dates=['earliest_cr_line', 'last_credit_pull_d'])\n",
    "df = pd.read_csv('lc_step3.csv', index_col = 'id')"
   ]
  },
  {
   "cell_type": "code",
   "execution_count": 3,
   "metadata": {
    "id": "CjpHj_iQTZzc"
   },
   "outputs": [],
   "source": [
    "#df_hold = pd.read_csv('../data/cleaned_data/LC_2016_2017_cleaned.csv', index_col='id', , parse_dates=['earliest_cr_line', 'last_credit_pull_d'])\n",
    "df_hold = pd.read_csv('LC_2016_2017_cleaned.csv', index_col='id')"
   ]
  },
  {
   "cell_type": "markdown",
   "metadata": {
    "id": "LBd_4wnRTZzc"
   },
   "source": [
    "## 4.5 Data Cleaning<a id='4.5_Data_Cleaning'></a>"
   ]
  },
  {
   "cell_type": "markdown",
   "metadata": {
    "id": "3JdXK5Q5TZzd"
   },
   "source": [
    "Before preprocessing, I need to do some final data cleaning. I dropped a number of columns during EDA and now I am going to drop those from the hold-out set."
   ]
  },
  {
   "cell_type": "code",
   "execution_count": 6,
   "metadata": {
    "colab": {
     "base_uri": "https://localhost:8080/"
    },
    "id": "OoJpZ2KVTZzd",
    "outputId": "c697ca2b-454b-464c-8506-14e7a7cab27a"
   },
   "outputs": [
    {
     "data": {
      "text/plain": [
       "['loan_status', 'grade', 'home_ownership', 'emp_length']"
      ]
     },
     "execution_count": 6,
     "metadata": {
      "tags": []
     },
     "output_type": "execute_result"
    }
   ],
   "source": [
    "drop_col = list(set(df_hold.columns).difference(set(df.columns)))\n",
    "drop_col"
   ]
  },
  {
   "cell_type": "code",
   "execution_count": 7,
   "metadata": {
    "colab": {
     "base_uri": "https://localhost:8080/"
    },
    "id": "X7E75t7CTZze",
    "outputId": "25c149d7-2512-4447-ec7c-27636a72e191"
   },
   "outputs": [
    {
     "data": {
      "text/plain": [
       "(748081, 23)"
      ]
     },
     "execution_count": 7,
     "metadata": {
      "tags": []
     },
     "output_type": "execute_result"
    }
   ],
   "source": [
    "# Here I will drop those same columns from the hold-out set.\n",
    "df_hold.drop(drop_col, axis=1, inplace=True)\n",
    "df_hold.shape"
   ]
  },
  {
   "cell_type": "code",
   "execution_count": 8,
   "metadata": {
    "id": "0J5to7X5XWw5"
   },
   "outputs": [],
   "source": [
    "other = ['educational', 'renewable_energy', 'wedding', 'vacation']\n",
    "housing = ['house', 'moving', 'home_improvement']\n",
    "\n",
    "for i in other:\n",
    "    df_hold['purpose'] = df_hold['purpose'].str.replace(i, 'other')\n",
    "\n",
    "for j in housing:    \n",
    "    df_hold['purpose'] = df_hold['purpose'].str.replace(j, 'housing')"
   ]
  },
  {
   "cell_type": "code",
   "execution_count": 11,
   "metadata": {
    "id": "xSDxfrZ5e2-w"
   },
   "outputs": [],
   "source": [
    "# I am going to just keep the year of the earliest_cr_line and last_credit_pull_d columns\n",
    "df['earliest_cr_line_year'] = df['earliest_cr_line'].astype('object').str.slice(0, 4)\n",
    "df['last_credit_pull_d_year'] = df['last_credit_pull_d'].astype('object').str.slice(0, 4)\n",
    "df_hold['earliest_cr_line_year'] = df_hold['earliest_cr_line'].astype('object').str.slice(0, 4)\n",
    "df_hold['last_credit_pull_d_year'] = df_hold['last_credit_pull_d'].astype('object').str.slice(0, 4)\n",
    "df.drop(['earliest_cr_line', 'last_credit_pull_d'], axis=1, inplace=True)\n",
    "df_hold.drop(['earliest_cr_line', 'last_credit_pull_d'], axis=1, inplace=True)"
   ]
  },
  {
   "cell_type": "code",
   "execution_count": 16,
   "metadata": {
    "id": "N8bLIvYhjIbe"
   },
   "outputs": [],
   "source": [
    "df['earliest_cr_line_year'] = df['earliest_cr_line_year'].astype('int')\n",
    "df['last_credit_pull_d_year'] = df['last_credit_pull_d_year'].astype('int')"
   ]
  },
  {
   "cell_type": "markdown",
   "metadata": {
    "id": "0HfFqB9jTZzg"
   },
   "source": [
    "## 4.6 Split Dataset<a id='4.6_Split_Dataset'></a>"
   ]
  },
  {
   "cell_type": "markdown",
   "metadata": {
    "id": "1v1saxWETZzg"
   },
   "source": [
    "df currently contains both the features and the targets (the 'defaults' column) for machine learning. I will need to seperate these before moving forward. "
   ]
  },
  {
   "cell_type": "code",
   "execution_count": 17,
   "metadata": {
    "id": "3RrFVZCLTZzg"
   },
   "outputs": [],
   "source": [
    "# Split the dataset into features and target\n",
    "X = df.drop('defaults', axis=1)\n",
    "y = df['defaults']"
   ]
  },
  {
   "cell_type": "code",
   "execution_count": 18,
   "metadata": {
    "id": "T0AvS1s2TZzg"
   },
   "outputs": [],
   "source": [
    "X_hold = df_hold.drop('defaults', axis=1)\n",
    "y_hold = df_hold['defaults']"
   ]
  },
  {
   "cell_type": "markdown",
   "metadata": {
    "id": "vfxC-qu-TZzh"
   },
   "source": [
    "## 4.7 Preprocessing<a id='4.7_Preprocessing'></a>"
   ]
  },
  {
   "cell_type": "markdown",
   "metadata": {
    "id": "_rQXtom5TZzh"
   },
   "source": [
    "### 4.7.1 Cadegorical Variable Cleaning<a id='4.7.1_Cadegorical_Variable_Cleaning'></a>"
   ]
  },
  {
   "cell_type": "markdown",
   "metadata": {
    "id": "mUNwKJeeTZzh"
   },
   "source": [
    "The categorical columns are currently dtype object. "
   ]
  },
  {
   "cell_type": "code",
   "execution_count": 19,
   "metadata": {
    "colab": {
     "base_uri": "https://localhost:8080/",
     "height": 171
    },
    "id": "Us4XJJ_4TZzh",
    "outputId": "ac5d6afa-a846-4f05-810a-e23bff91ba94"
   },
   "outputs": [
    {
     "data": {
      "text/html": [
       "<div>\n",
       "<style scoped>\n",
       "    .dataframe tbody tr th:only-of-type {\n",
       "        vertical-align: middle;\n",
       "    }\n",
       "\n",
       "    .dataframe tbody tr th {\n",
       "        vertical-align: top;\n",
       "    }\n",
       "\n",
       "    .dataframe thead th {\n",
       "        text-align: right;\n",
       "    }\n",
       "</style>\n",
       "<table border=\"1\" class=\"dataframe\">\n",
       "  <thead>\n",
       "    <tr style=\"text-align: right;\">\n",
       "      <th></th>\n",
       "      <th>sub_grade</th>\n",
       "      <th>verification_status</th>\n",
       "      <th>purpose</th>\n",
       "      <th>addr_state</th>\n",
       "    </tr>\n",
       "    <tr>\n",
       "      <th>id</th>\n",
       "      <th></th>\n",
       "      <th></th>\n",
       "      <th></th>\n",
       "      <th></th>\n",
       "    </tr>\n",
       "  </thead>\n",
       "  <tbody>\n",
       "    <tr>\n",
       "      <th>1077501</th>\n",
       "      <td>B2</td>\n",
       "      <td>Verified</td>\n",
       "      <td>credit_card</td>\n",
       "      <td>AZ</td>\n",
       "    </tr>\n",
       "    <tr>\n",
       "      <th>1077430</th>\n",
       "      <td>C4</td>\n",
       "      <td>Source Verified</td>\n",
       "      <td>car</td>\n",
       "      <td>GA</td>\n",
       "    </tr>\n",
       "    <tr>\n",
       "      <th>1077175</th>\n",
       "      <td>C5</td>\n",
       "      <td>Not Verified</td>\n",
       "      <td>small_business</td>\n",
       "      <td>IL</td>\n",
       "    </tr>\n",
       "  </tbody>\n",
       "</table>\n",
       "</div>"
      ],
      "text/plain": [
       "        sub_grade verification_status         purpose addr_state\n",
       "id                                                              \n",
       "1077501        B2            Verified     credit_card         AZ\n",
       "1077430        C4     Source Verified             car         GA\n",
       "1077175        C5        Not Verified  small_business         IL"
      ]
     },
     "execution_count": 19,
     "metadata": {
      "tags": []
     },
     "output_type": "execute_result"
    }
   ],
   "source": [
    "X.select_dtypes('object').head(3)"
   ]
  },
  {
   "cell_type": "code",
   "execution_count": 20,
   "metadata": {
    "id": "l5S1MBtzTZzi"
   },
   "outputs": [],
   "source": [
    "# change the object columns to category\n",
    "for col in ['sub_grade', 'verification_status', 'purpose', 'addr_state']:\n",
    "    X[col] = X[col].astype('category')"
   ]
  },
  {
   "cell_type": "code",
   "execution_count": 21,
   "metadata": {
    "id": "UF0kAOWjTZzj"
   },
   "outputs": [],
   "source": [
    "for col in ['sub_grade', 'verification_status', 'purpose', 'addr_state']:\n",
    "    X_hold[col] = X_hold[col].astype('category')"
   ]
  },
  {
   "cell_type": "markdown",
   "metadata": {
    "id": "jEtnn0pDTZzj"
   },
   "source": [
    "### 4.7.2 Label Encoding<a id='4.7.2_Label_Encoding'></a>"
   ]
  },
  {
   "cell_type": "code",
   "execution_count": 22,
   "metadata": {
    "id": "opjLrbooTZzj"
   },
   "outputs": [],
   "source": [
    "categories = ['sub_grade', 'verification_status', 'purpose', 'addr_state']"
   ]
  },
  {
   "cell_type": "code",
   "execution_count": 23,
   "metadata": {
    "id": "I6u3ZKDCTZzj"
   },
   "outputs": [],
   "source": [
    "label_encoder = LabelEncoder()\n",
    "for col in categories:\n",
    "    X[col]= label_encoder.fit_transform(X[col])"
   ]
  },
  {
   "cell_type": "code",
   "execution_count": 24,
   "metadata": {
    "id": "t92t3Tp3TZzj"
   },
   "outputs": [],
   "source": [
    "label_encoder = LabelEncoder()\n",
    "for col in categories:\n",
    "    X_hold[col]= label_encoder.fit_transform(X_hold[col])"
   ]
  },
  {
   "cell_type": "markdown",
   "metadata": {
    "id": "38EZWpciaZSm"
   },
   "source": [
    "I am going to now save the full training and holdout datasets. "
   ]
  },
  {
   "cell_type": "code",
   "execution_count": 25,
   "metadata": {
    "id": "_wV0hchdVUeE"
   },
   "outputs": [],
   "source": [
    "X.to_csv('features.csv')\n",
    "y.to_csv('labels.csv')"
   ]
  },
  {
   "cell_type": "code",
   "execution_count": 26,
   "metadata": {
    "colab": {
     "base_uri": "https://localhost:8080/"
    },
    "id": "bYXkj_R8o8PM",
    "outputId": "6a660b1d-9646-4fbf-a6c8-6ecac4534be5"
   },
   "outputs": [
    {
     "name": "stdout",
     "output_type": "stream",
     "text": [
      "  adding: features.csv (deflated 72%)\n",
      "  adding: labels.csv (deflated 66%)\n"
     ]
    }
   ],
   "source": [
    "! zip full_dataset.csv.zip *.csv"
   ]
  },
  {
   "cell_type": "code",
   "execution_count": 27,
   "metadata": {
    "id": "O7_-RS20XWw9"
   },
   "outputs": [],
   "source": [
    "X_hold.to_csv('X_hold.csv')\n",
    "y_hold.to_csv('y_hold.csv')"
   ]
  },
  {
   "cell_type": "code",
   "execution_count": 28,
   "metadata": {
    "colab": {
     "base_uri": "https://localhost:8080/"
    },
    "id": "DkUBp0HyXWw9",
    "outputId": "92e10577-dce2-4e3d-e010-19e62b4a3fec"
   },
   "outputs": [
    {
     "name": "stdout",
     "output_type": "stream",
     "text": [
      "  adding: X_hold.csv (deflated 65%)\n",
      "  adding: y_hold.csv (deflated 67%)\n"
     ]
    }
   ],
   "source": [
    "! zip holdout_dataset.csv.zip *hold.csv"
   ]
  },
  {
   "cell_type": "markdown",
   "metadata": {
    "id": "U85K0s45TZzk"
   },
   "source": [
    "### 4.7.3 Train Test Split<a id='4.7.3_Train_Test_Split'></a>"
   ]
  },
  {
   "cell_type": "markdown",
   "metadata": {
    "id": "Hnd-yoqtTZzk"
   },
   "source": [
    "Here I am going to split my dataset into training and test sets. I will have two different sets. One with the one-hot encoded dummy features and one with label encoded categorical features. The test set size is going to be 30%. Since only about 5% of loans default, I will need to set the stratify parameter."
   ]
  },
  {
   "cell_type": "code",
   "execution_count": null,
   "metadata": {
    "id": "x6__l3rh3XUA"
   },
   "outputs": [],
   "source": [
    "#! unzip *.zip"
   ]
  },
  {
   "cell_type": "code",
   "execution_count": null,
   "metadata": {
    "id": "SWrBs_rh3oFO"
   },
   "outputs": [],
   "source": [
    "#X = pd.read_csv('features.csv', index_col='id')\n",
    "#y = pd.read_csv('labels.csv')"
   ]
  },
  {
   "cell_type": "code",
   "execution_count": null,
   "metadata": {
    "id": "EUPBBqEE4cfy"
   },
   "outputs": [],
   "source": [
    "#y.drop('id', axis=1, inplace=True)"
   ]
  },
  {
   "cell_type": "code",
   "execution_count": 29,
   "metadata": {
    "id": "-jYfxEE5TZzk"
   },
   "outputs": [],
   "source": [
    "X_train, X_test, y_train, y_test = train_test_split(X, y, test_size=0.3, random_state=42, stratify=y)"
   ]
  },
  {
   "cell_type": "markdown",
   "metadata": {
    "id": "dalVVUvpTZzl"
   },
   "source": [
    "### 4.7.4 Balancing the Data<a id='4.7.4_Balancing_the_Data'></a>"
   ]
  },
  {
   "cell_type": "markdown",
   "metadata": {
    "id": "Cm-PNGfwUZx7"
   },
   "source": [
    "Since the dataset only contains approximately 5% defaulted loans, the data needs to be balanced. I am going to use a combination of SMOTE to oversample the minority class and RandomUnderSampler to undersample the majority class to balance the data."
   ]
  },
  {
   "cell_type": "code",
   "execution_count": 30,
   "metadata": {
    "id": "QSLwws09TZzl"
   },
   "outputs": [],
   "source": [
    "y_test = y_test.to_numpy().ravel()\n",
    "y_train = y_train.to_numpy().ravel()"
   ]
  },
  {
   "cell_type": "code",
   "execution_count": 31,
   "metadata": {
    "colab": {
     "base_uri": "https://localhost:8080/"
    },
    "id": "oIL5WXguTZzl",
    "outputId": "daf78aa7-4b89-4f22-d4bb-5f0b427dd6fe"
   },
   "outputs": [
    {
     "name": "stdout",
     "output_type": "stream",
     "text": [
      "Counter({0: 146623, 1: 33025})\n"
     ]
    }
   ],
   "source": [
    "# summarize class distribution\n",
    "counter = Counter(y_train)\n",
    "print(counter)"
   ]
  },
  {
   "cell_type": "code",
   "execution_count": 32,
   "metadata": {
    "id": "xU8yXonWinzD"
   },
   "outputs": [],
   "source": [
    "over = SMOTE(sampling_strategy=0.25)\n",
    "under = RandomUnderSampler(sampling_strategy=0.3)\n",
    "steps = [('o', over), ('u', under)]\n",
    "pipeline = imbPipeline(steps=steps)"
   ]
  },
  {
   "cell_type": "code",
   "execution_count": 33,
   "metadata": {
    "colab": {
     "base_uri": "https://localhost:8080/"
    },
    "id": "D8rU2Z4TTZzl",
    "outputId": "4443a90f-687c-4ba0-b31e-e9a4d4c0dbde"
   },
   "outputs": [
    {
     "name": "stderr",
     "output_type": "stream",
     "text": [
      "/usr/local/lib/python3.7/dist-packages/sklearn/utils/deprecation.py:87: FutureWarning: Function safe_indexing is deprecated; safe_indexing is deprecated in version 0.22 and will be removed in version 0.24.\n",
      "  warnings.warn(msg, category=FutureWarning)\n"
     ]
    },
    {
     "name": "stdout",
     "output_type": "stream",
     "text": [
      "Counter({0: 122183, 1: 36655})\n"
     ]
    },
    {
     "name": "stderr",
     "output_type": "stream",
     "text": [
      "/usr/local/lib/python3.7/dist-packages/sklearn/utils/deprecation.py:87: FutureWarning: Function safe_indexing is deprecated; safe_indexing is deprecated in version 0.22 and will be removed in version 0.24.\n",
      "  warnings.warn(msg, category=FutureWarning)\n"
     ]
    }
   ],
   "source": [
    "# transform the dataset\n",
    "#X, y = pipeline.fit_resample(X, y)\n",
    "X_train, y_train = pipeline.fit_resample(X_train, y_train)\n",
    "\n",
    "# summarize the new class distribution\n",
    "counter = Counter(y_train)\n",
    "print(counter)"
   ]
  },
  {
   "cell_type": "markdown",
   "metadata": {
    "id": "1kPxACFpkTSN"
   },
   "source": [
    "### 4.7.5 Feature Selection with RFE<a id='4.7.5_Feature_Selection_with_RFE'></a>"
   ]
  },
  {
   "cell_type": "markdown",
   "metadata": {
    "id": "07vNRH_gC15k"
   },
   "source": [
    "First I am going to further reduce the size of the training set just to determine the number of features to chose for RFE."
   ]
  },
  {
   "cell_type": "code",
   "execution_count": 37,
   "metadata": {
    "colab": {
     "base_uri": "https://localhost:8080/"
    },
    "id": "ShJSt5S8DwHw",
    "outputId": "f4244fc6-187e-41b7-c283-747169da3934"
   },
   "outputs": [
    {
     "name": "stdout",
     "output_type": "stream",
     "text": [
      "{'n_features_to_select': 21}\n"
     ]
    }
   ],
   "source": [
    "rfe = RFE(estimator=RandomForestClassifier())\n",
    "\n",
    "k = [x+1 for x in range(X_train.shape[1])]\n",
    "grid_params = {'n_features_to_select': k}\n",
    "\n",
    "# define grid search\n",
    "RF_search = GridSearchCV(estimator=rfe, param_grid=grid_params, cv=2, scoring='precision_macro',error_score=0)\n",
    "\n",
    "RF_search.fit(X_train, y_train)\n",
    "\n",
    "print(RF_search.best_params_)"
   ]
  },
  {
   "cell_type": "markdown",
   "metadata": {
    "id": "v0LtYpdBDJxG"
   },
   "source": [
    "The grid search with RFE says that the best n_features_to_select is 21."
   ]
  },
  {
   "cell_type": "code",
   "execution_count": 38,
   "metadata": {
    "id": "S5eIf35ut-tL"
   },
   "outputs": [],
   "source": [
    "X_RFE = RF_search.transform(X_train)"
   ]
  },
  {
   "cell_type": "code",
   "execution_count": 39,
   "metadata": {
    "id": "OKy-j5J3Esrg"
   },
   "outputs": [],
   "source": [
    "X_RFE_test = RF_search.transform(X_test)"
   ]
  },
  {
   "cell_type": "markdown",
   "metadata": {
    "id": "cjnjuSybTZzk"
   },
   "source": [
    "## 4.8 Training Models<a id='4.8_Training_Models'></a>"
   ]
  },
  {
   "cell_type": "markdown",
   "metadata": {
    "id": "Ocj6omRnTZzl"
   },
   "source": [
    "For ML, I plan on using trees and logistic regression. The tree based models will use the label encoded split and the logistic regression model will use the dummy split. These models do not assume that the data is a normal distribution. To scale the data, I am going to use a standard scaler just on the dummy split. "
   ]
  },
  {
   "cell_type": "code",
   "execution_count": 40,
   "metadata": {
    "id": "WwCISF6sXWxA"
   },
   "outputs": [],
   "source": [
    "# adapted from https://gist.github.com/rajaraghav/43dc6ee38d8db48dfa47b3505d0b8a2b\n",
    "def print_score(true, pred, train=True):\n",
    "    if train:\n",
    "        clf_report = pd.DataFrame(classification_report(true, pred, output_dict=True))\n",
    "        print(\"Train Result:\\n================================================\")\n",
    "        print(f\"CLASSIFICATION REPORT:\\n{clf_report}\")\n",
    "        print(\"_______________________________________________\")\n",
    "        print(f\"Confusion Matrix: \\n {confusion_matrix(true, pred)}\\n\")\n",
    "        \n",
    "    elif train==False:\n",
    "        clf_report = pd.DataFrame(classification_report(true, pred, output_dict=True))\n",
    "        print(\"Test Result:\\n================================================\")        \n",
    "        print(f\"CLASSIFICATION REPORT:\\n{clf_report}\")\n",
    "        print(\"_______________________________________________\")\n",
    "        print(f\"Confusion Matrix: \\n {confusion_matrix(true, pred)}\\n\")"
   ]
  },
  {
   "cell_type": "markdown",
   "metadata": {
    "id": "vb-v4A47XWxA"
   },
   "source": [
    "### 4.8.1 Dummy Classifier<a id='4.8.1_Dummy_Classifier'></a>"
   ]
  },
  {
   "cell_type": "code",
   "execution_count": 41,
   "metadata": {
    "colab": {
     "base_uri": "https://localhost:8080/"
    },
    "id": "8zbTGYfaTZzl",
    "outputId": "79ec5c8a-a388-4676-83d2-e8d629ca8868"
   },
   "outputs": [
    {
     "data": {
      "text/plain": [
       "0.8161705112219452"
      ]
     },
     "execution_count": 41,
     "metadata": {
      "tags": []
     },
     "output_type": "execute_result"
    }
   ],
   "source": [
    "dummy = DummyClassifier(strategy = 'most_frequent', random_state=121)\n",
    "\n",
    "dummy.fit(X, y)\n",
    "dummy.score(X, y)"
   ]
  },
  {
   "cell_type": "markdown",
   "metadata": {
    "id": "e55laESZXWxB"
   },
   "source": [
    ".score is calculating the accuracy of the model. This score of 0.95 shows exactly why accuracy cannot be used for this dataset. The percentage of defaults in this data is approximately 5%. So, even with this dummy model which is predicting no loan defaults, it is accurate 94.7% of the time.\n",
    "\n",
    "For loan defaults, we care about minimizing both false positives and false negatives. Predicting false positives means that lenders will not loan money to borrowers who would have actually paid back the loan. This loses money for the banks and lenders. Predicting false negatives means that the borrow will be lent money that will not be paid back, and also loses the bank money.\n",
    "\n",
    "The metrics that I will use to assess my model is the f1 score and the confusion matrix."
   ]
  },
  {
   "cell_type": "code",
   "execution_count": 42,
   "metadata": {
    "colab": {
     "base_uri": "https://localhost:8080/"
    },
    "id": "OqbtGqTHXWxB",
    "outputId": "5a122fb7-8c0e-48d6-842c-aba269eaa274"
   },
   "outputs": [
    {
     "data": {
      "text/plain": [
       "0.0"
      ]
     },
     "execution_count": 42,
     "metadata": {
      "tags": []
     },
     "output_type": "execute_result"
    }
   ],
   "source": [
    "f1_score(y, dummy.predict(X))"
   ]
  },
  {
   "cell_type": "markdown",
   "metadata": {
    "id": "28InwMXIXWxB"
   },
   "source": [
    "Above, the f1 score is zero. This is exactly as expected and shows that this dummy model is useless for predicting loan defaults."
   ]
  },
  {
   "cell_type": "markdown",
   "metadata": {
    "id": "fJ5YWnsLXWxB"
   },
   "source": [
    "### 4.8.2 Random Forest<a id='4.8.2_Random_Forest'></a>"
   ]
  },
  {
   "cell_type": "code",
   "execution_count": 43,
   "metadata": {
    "colab": {
     "base_uri": "https://localhost:8080/"
    },
    "id": "Rmq15B3DXWxB",
    "outputId": "4895d8e4-898d-4d69-e4e0-001507b6a72c"
   },
   "outputs": [
    {
     "name": "stdout",
     "output_type": "stream",
     "text": [
      "{'n_estimators': [100, 200], 'max_features': ['auto', 'sqrt'], 'max_depth': [10, 17, 25, 32, 40, None], 'min_samples_split': [2, 4], 'bootstrap': [True, False]}\n"
     ]
    }
   ],
   "source": [
    "#The following random forest hyperparameter tuning was taken from https://towardsdatascience.com/hyperparameter-tuning-the-random-forest-in-python-using-scikit-learn-28d2aa77dd74\n",
    "\n",
    "# Number of trees in random forest\n",
    "n_estimators = [100, 200]\n",
    "# Number of features to consider at every split\n",
    "max_features = ['auto', 'sqrt']\n",
    "# Maximum number of levels in tree\n",
    "max_depth = [int(x) for x in np.linspace(10, 40, num = 5)]\n",
    "max_depth.append(None)\n",
    "# Minimum number of samples required to split a node\n",
    "min_samples_split = [2, 4]\n",
    "# Method of selecting samples for training each tree\n",
    "bootstrap = [True, False]\n",
    "# Create the random grid\n",
    "param_grid = {'n_estimators': n_estimators,\n",
    "               'max_features': max_features,\n",
    "               'max_depth': max_depth,\n",
    "               'min_samples_split': min_samples_split,\n",
    "               'bootstrap': bootstrap}\n",
    "print(param_grid)"
   ]
  },
  {
   "cell_type": "code",
   "execution_count": 44,
   "metadata": {
    "colab": {
     "base_uri": "https://localhost:8080/"
    },
    "id": "er4mw--2XWxC",
    "outputId": "b4891aef-224f-4566-abe9-f386a25346cc"
   },
   "outputs": [
    {
     "name": "stderr",
     "output_type": "stream",
     "text": [
      "/usr/local/lib/python3.7/dist-packages/joblib/externals/loky/process_executor.py:691: UserWarning: A worker stopped while some jobs were given to the executor. This can be caused by a too short worker timeout or by a memory leak.\n",
      "  \"timeout or by a memory leak.\", UserWarning\n"
     ]
    },
    {
     "name": "stdout",
     "output_type": "stream",
     "text": [
      "{'bootstrap': True, 'max_depth': 40, 'max_features': 'auto', 'min_samples_split': 2, 'n_estimators': 200}\n"
     ]
    }
   ],
   "source": [
    "# First create the base model to tune\n",
    "rf = RandomForestClassifier()\n",
    "\n",
    "# Random search of parameters, using 3 fold cross validation, \n",
    "rf_grid = GridSearchCV(estimator = rf, param_grid = param_grid, cv = 3, n_jobs = -1, scoring='precision_macro')\n",
    "\n",
    "# Fit the random search model\n",
    "rf_grid.fit(X_RFE, y_train)\n",
    "\n",
    "print(rf_grid.best_params_)"
   ]
  },
  {
   "cell_type": "code",
   "execution_count": 45,
   "metadata": {
    "colab": {
     "base_uri": "https://localhost:8080/"
    },
    "id": "vmlJY-nNXWxC",
    "outputId": "b9af965f-f8cc-48e0-f04e-0920789dda9b"
   },
   "outputs": [
    {
     "name": "stdout",
     "output_type": "stream",
     "text": [
      "Train Result:\n",
      "================================================\n",
      "CLASSIFICATION REPORT:\n",
      "                  0        1  accuracy  macro avg  weighted avg\n",
      "precision       1.0      1.0       1.0        1.0           1.0\n",
      "recall          1.0      1.0       1.0        1.0           1.0\n",
      "f1-score        1.0      1.0       1.0        1.0           1.0\n",
      "support    122183.0  36655.0       1.0   158838.0      158838.0\n",
      "_______________________________________________\n",
      "Confusion Matrix: \n",
      " [[122183      0]\n",
      " [     0  36655]]\n",
      "\n",
      "Test Result:\n",
      "================================================\n",
      "CLASSIFICATION REPORT:\n",
      "                      0             1  accuracy     macro avg  weighted avg\n",
      "precision      0.829281      0.506489  0.816682      0.667885      0.769944\n",
      "recall         0.976400      0.107539  0.816682      0.541970      0.816682\n",
      "f1-score       0.896847      0.177410  0.816682      0.537129      0.764597\n",
      "support    62839.000000  14153.000000  0.816682  76992.000000  76992.000000\n",
      "_______________________________________________\n",
      "Confusion Matrix: \n",
      " [[61356  1483]\n",
      " [12631  1522]]\n",
      "\n"
     ]
    }
   ],
   "source": [
    "yTrain_rf_pred = rf_grid.best_estimator_.predict(X_RFE)\n",
    "y_rf_pred = rf_grid.best_estimator_.predict(X_RFE_test)\n",
    "\n",
    "print_score(y_train, yTrain_rf_pred, train=True)\n",
    "print_score(y_test, y_rf_pred, train=False)"
   ]
  },
  {
   "cell_type": "code",
   "execution_count": 49,
   "metadata": {
    "colab": {
     "base_uri": "https://localhost:8080/"
    },
    "id": "rT8WUvnA-gSm",
    "outputId": "8dc0a843-48ac-4764-b255-729fdb59a04a"
   },
   "outputs": [
    {
     "name": "stdout",
     "output_type": "stream",
     "text": [
      "Random Forrest: f1=0.177 auc=0.361\n"
     ]
    }
   ],
   "source": [
    "# https://machinelearningmastery.com/roc-curves-and-precision-recall-curves-for-classification-in-python/\n",
    "# predict probabilities\n",
    "rf_probs = rf_grid.predict_proba(X_RFE_test)\n",
    "# keep probabilities for the positive outcome only\n",
    "rf_probs = rf_probs[:, 1]\n",
    "\n",
    "# calculate precision and recall for each threshold\n",
    "rf_precision, rf_recall, _ = precision_recall_curve(y_test, rf_probs)\n",
    "# calculate scores\n",
    "rf_f1, rf_auc = f1_score(y_test, y_rf_pred), auc(rf_recall, rf_precision)\n",
    "# summarize scores\n",
    "print('Random Forrest: f1=%.3f auc=%.3f' % (rf_f1, rf_auc))"
   ]
  },
  {
   "cell_type": "code",
   "execution_count": 51,
   "metadata": {
    "colab": {
     "base_uri": "https://localhost:8080/",
     "height": 279
    },
    "id": "S_raG5XKXWxC",
    "outputId": "016b646c-70d3-4233-83b7-f81dfde3a8c9"
   },
   "outputs": [
    {
     "data": {
      "image/png": "[encoded data removed]",
      "text/plain": [
       "<Figure size 432x288 with 1 Axes>"
      ]
     },
     "metadata": {
      "needs_background": "light",
      "tags": []
     },
     "output_type": "display_data"
    }
   ],
   "source": [
    "# plot the precision-recall curves\n",
    "no_skill = len(y_test[y_test==1]) / len(y_test)\n",
    "plt.plot([0, 1], [no_skill, no_skill], linestyle='--', label='No Skill')\n",
    "plt.plot(rf_recall, rf_precision, marker='.', label='Random Forest')\n",
    "# axis labels\n",
    "plt.xlabel('Recall')\n",
    "plt.ylabel('Precision')\n",
    "# show the legend\n",
    "plt.legend()\n",
    "# show the plot\n",
    "plt.show()"
   ]
  },
  {
   "cell_type": "code",
   "execution_count": 60,
   "metadata": {
    "colab": {
     "base_uri": "https://localhost:8080/"
    },
    "id": "cLJg8bShbFi7",
    "outputId": "834552ec-6db0-4d8d-d71c-ac5ca8f3b6b5"
   },
   "outputs": [
    {
     "name": "stdout",
     "output_type": "stream",
     "text": [
      "The Random Forest training AUC is:  1.0\n",
      "The Random Forest test AUC is:  0.5419695220126669\n"
     ]
    }
   ],
   "source": [
    "print('The Random Forest training AUC is: ', roc_auc_score(y_train, yTrain_rf_pred))\n",
    "print('The Random Forest test AUC is: ', roc_auc_score(y_test, y_rf_pred))"
   ]
  },
  {
   "cell_type": "markdown",
   "metadata": {
    "id": "-HOOGrfRXWxC"
   },
   "source": [
    "### 4.8.3 XGBoost<a id='4.8.3_XGBoost'></a>"
   ]
  },
  {
   "cell_type": "code",
   "execution_count": 52,
   "metadata": {
    "id": "0xJJdPjrXWxC"
   },
   "outputs": [],
   "source": [
    "# Create the parameter grid: xgb_param_grid \n",
    "xgb_param_grid = {\n",
    "    'objective': ['reg:logistic'],\n",
    "    'colsample_bytree': [0.3, 0.7, 0.8],\n",
    "    'n_estimators': [35, 50],\n",
    "    'max_depth': [7, 10, 15],\n",
    "    'eta': [0.01, 0.1, 0.2, 0.3],\n",
    "}\n",
    "\n",
    "# Instantiate the regressor: xgb\n",
    "xgb_cl = xgb.XGBClassifier(eval_metric='aucpr', use_label_encoder=False)\n",
    "\n",
    "# Perform random search: grid_xgb\n",
    "grid_xgb = GridSearchCV(xgb_cl, param_grid=xgb_param_grid, cv=3, verbose=1, scoring=\"precision_macro\")"
   ]
  },
  {
   "cell_type": "code",
   "execution_count": 53,
   "metadata": {
    "colab": {
     "base_uri": "https://localhost:8080/"
    },
    "id": "g3y63mnxXWxD",
    "outputId": "1de73523-5e5f-424a-f47c-0a1bfc6270db"
   },
   "outputs": [
    {
     "name": "stdout",
     "output_type": "stream",
     "text": [
      "Fitting 3 folds for each of 72 candidates, totalling 216 fits\n"
     ]
    },
    {
     "name": "stderr",
     "output_type": "stream",
     "text": [
      "[Parallel(n_jobs=1)]: Using backend SequentialBackend with 1 concurrent workers.\n",
      "[Parallel(n_jobs=1)]: Done 216 out of 216 | elapsed: 44.0min finished\n"
     ]
    },
    {
     "name": "stdout",
     "output_type": "stream",
     "text": [
      "Best parameters found:  {'colsample_bytree': 0.3, 'eta': 0.01, 'max_depth': 7, 'n_estimators': 35, 'objective': 'reg:logistic'}\n"
     ]
    }
   ],
   "source": [
    "# Fit grid_xgb to the data\n",
    "grid_xgb.fit(X_RFE, y_train)\n",
    "\n",
    "# Print the best parameters found\n",
    "print(\"Best parameters found: \", grid_xgb.best_params_)"
   ]
  },
  {
   "cell_type": "code",
   "execution_count": 54,
   "metadata": {
    "colab": {
     "base_uri": "https://localhost:8080/"
    },
    "id": "4hRNydUiXWxD",
    "outputId": "3626ef97-6601-48bc-f23f-953351723170"
   },
   "outputs": [
    {
     "name": "stdout",
     "output_type": "stream",
     "text": [
      "Train Result:\n",
      "================================================\n",
      "CLASSIFICATION REPORT:\n",
      "                       0             1  accuracy      macro avg   weighted avg\n",
      "precision       0.790366      0.911371   0.79401       0.850868       0.818290\n",
      "recall          0.996530      0.118947   0.79401       0.557738       0.794010\n",
      "f1-score        0.881555      0.210430   0.79401       0.545992       0.726679\n",
      "support    122183.000000  36655.000000   0.79401  158838.000000  158838.000000\n",
      "_______________________________________________\n",
      "Confusion Matrix: \n",
      " [[121759    424]\n",
      " [ 32295   4360]]\n",
      "\n",
      "Test Result:\n",
      "================================================\n",
      "CLASSIFICATION REPORT:\n",
      "                      0             1  accuracy     macro avg  weighted avg\n",
      "precision      0.819750      0.562500  0.817345      0.691125      0.772462\n",
      "recall         0.994987      0.028616  0.817345      0.511802      0.817345\n",
      "f1-score       0.898908      0.054461  0.817345      0.476685      0.743678\n",
      "support    62839.000000  14153.000000  0.817345  76992.000000  76992.000000\n",
      "_______________________________________________\n",
      "Confusion Matrix: \n",
      " [[62524   315]\n",
      " [13748   405]]\n",
      "\n"
     ]
    }
   ],
   "source": [
    "yTrain_xgb_pred = grid_xgb.predict(X_RFE)\n",
    "y_xgb_pred = grid_xgb.predict(X_RFE_test)\n",
    "\n",
    "print_score(y_train, yTrain_xgb_pred, train=True)\n",
    "print_score(y_test, y_xgb_pred, train=False)"
   ]
  },
  {
   "cell_type": "code",
   "execution_count": 55,
   "metadata": {
    "colab": {
     "base_uri": "https://localhost:8080/"
    },
    "id": "fz2L_hC7TTxZ",
    "outputId": "e7bd7d3c-314e-40ec-bb4b-cd6f034551f6"
   },
   "outputs": [
    {
     "name": "stdout",
     "output_type": "stream",
     "text": [
      "XGBoost: f1=0.054 auc=0.351\n"
     ]
    }
   ],
   "source": [
    "# https://machinelearningmastery.com/roc-curves-and-precision-recall-curves-for-classification-in-python/\n",
    "# predict probabilities\n",
    "xgb_probs = grid_xgb.predict_proba(X_RFE_test)\n",
    "# keep probabilities for the positive outcome only\n",
    "xgb_probs = xgb_probs[:, 1]\n",
    "\n",
    "# calculate precision and recall for each threshold\n",
    "xgb_precision, xgb_recall, _ = precision_recall_curve(y_test, xgb_probs)\n",
    "# calculate scores\n",
    "xgb_f1, xgb_auc = f1_score(y_test, y_xgb_pred), auc(xgb_recall, xgb_precision)\n",
    "# summarize scores\n",
    "print('XGBoost: f1=%.3f auc=%.3f' % (xgb_f1, xgb_auc))"
   ]
  },
  {
   "cell_type": "code",
   "execution_count": 56,
   "metadata": {
    "colab": {
     "base_uri": "https://localhost:8080/",
     "height": 279
    },
    "id": "Iq0-JLBQTT45",
    "outputId": "2a373e88-daec-4bdc-a1a5-8693b8c4802b"
   },
   "outputs": [
    {
     "data": {
      "image/png": "[encoded data removed]",
      "text/plain": [
       "<Figure size 432x288 with 1 Axes>"
      ]
     },
     "metadata": {
      "needs_background": "light",
      "tags": []
     },
     "output_type": "display_data"
    }
   ],
   "source": [
    "# plot the precision-recall curves\n",
    "no_skill = len(y_test[y_test==1]) / len(y_test)\n",
    "plt.plot([0, 1], [no_skill, no_skill], linestyle='--', label='No Skill')\n",
    "plt.plot(xgb_recall, xgb_precision, marker='.', label='XGBoost')\n",
    "# axis labels\n",
    "plt.xlabel('Recall')\n",
    "plt.ylabel('Precision')\n",
    "# show the legend\n",
    "plt.legend()\n",
    "# show the plot\n",
    "plt.show()"
   ]
  },
  {
   "cell_type": "code",
   "execution_count": 58,
   "metadata": {
    "colab": {
     "base_uri": "https://localhost:8080/"
    },
    "id": "15VueKAFXWxD",
    "outputId": "15fc86bc-bce8-4688-aafb-f2b6f04a083e"
   },
   "outputs": [
    {
     "name": "stdout",
     "output_type": "stream",
     "text": [
      "The XGBoost training AUC is:  0.5577383665663558\n",
      "The XGBoost test AUC is:  0.5118015153243275\n"
     ]
    }
   ],
   "source": [
    "print('The XGBoost training AUC is: ', roc_auc_score(y_train, yTrain_xgb_pred))\n",
    "print('The XGBoost test AUC is: ', roc_auc_score(y_test, y_xgb_pred))"
   ]
  },
  {
   "cell_type": "markdown",
   "metadata": {
    "id": "-vuqNHW0chsy"
   },
   "source": [
    "It looks like the random forest model predicts better than the XGBoost model. I will now save the model params and library versions to use to predict the holdout set in the next notebook."
   ]
  },
  {
   "cell_type": "markdown",
   "metadata": {
    "id": "nzfrma3bTZzm"
   },
   "source": [
    "## 4.9 Save the Model<a id='4.9_Save_the_Model'></a>"
   ]
  },
  {
   "cell_type": "code",
   "execution_count": 66,
   "metadata": {
    "id": "Ic8WgrH2XWxD"
   },
   "outputs": [],
   "source": [
    "best_model = rf_grid.best_estimator_\n",
    "best_model.version = 1.0\n",
    "best_model.pandas_version = pd.__version__\n",
    "best_model.numpy_version = np.__version__\n",
    "best_model.sklearn_version = sklearn_version\n",
    "best_model.RFE = RF_search.best_params_\n",
    "best_model.build_datetime = datetime.datetime.now()"
   ]
  },
  {
   "cell_type": "code",
   "execution_count": null,
   "metadata": {
    "id": "mJuZ_5L1XWxE"
   },
   "outputs": [],
   "source": [
    "# save the model\n",
    "from library.sb_utils import save_file\n",
    "save_file(best_model, 'LC_defaults_model.pkl')"
   ]
  },
  {
   "cell_type": "code",
   "execution_count": null,
   "metadata": {
    "id": "zg9GyZdUXWxE"
   },
   "outputs": [],
   "source": []
  }
 ],
 "metadata": {
  "colab": {
   "name": "4_Preprocessing_and_Training2.ipynb",
   "provenance": [],
   "toc_visible": true
  },
  "kernelspec": {
   "display_name": "Python 3",
   "language": "python",
   "name": "python3"
  },
  "language_info": {
   "codemirror_mode": {
    "name": "ipython",
    "version": 3
   },
   "file_extension": ".py",
   "mimetype": "text/x-python",
   "name": "python",
   "nbconvert_exporter": "python",
   "pygments_lexer": "ipython3",
   "version": "3.8.5"
  }
 },
 "nbformat": 4,
 "nbformat_minor": 1
}
