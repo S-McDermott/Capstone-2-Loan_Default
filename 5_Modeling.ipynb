{
 "cells": [
  {
   "cell_type": "markdown",
   "metadata": {},
   "source": [
    "# 5 Modeling<a id='5_Modeling'></a>"
   ]
  },
  {
   "cell_type": "markdown",
   "metadata": {},
   "source": [
    "## 5.1 Contents<a id='5.1_Contents'></a>\n",
    "* [5 Modeling](#5_Modeling)\n",
    "  * [5.1 Contents](#5.1_Contents)\n",
    "  * [5.2 Introduction](#5.2_Introduction)\n",
    "  * [5.3 Imports](#5.3_Imports)\n",
    "  * [5.4 Load Data](#5.4_Load_Data)\n",
    "  * [5.5 Dummy Model](#5.5_Dummy_Model)\n",
    "  * [5.6 Decision Tree Classifier Model](#5.6_Decision_Tree_Classifier_Model)\n",
    "  * [5.7 Logistic Regression](#5.7_Logistic_Regression)\n",
    "      * [5.7.1 Basic Logistic Regression Model](#5.7.1_Basic_Logistic_Regression_Model)\n",
    "      * [5.7.2 Logistic Regression with Hyperparameter Tuning](#5.7.2_Logistic_Regression_with_Hyperparameter_Tuning)\n",
    "  * [5.8 Random Forest](#5.8_Random_Forest)\n",
    "      * [5.8.1 Basic Random Forest Model](#5.8.1_Basic_Random_Forest_Model)\n",
    "      * [5.8.2 Random Forest with Hyperparameter Tuning](#5.8.2_Random_Forest_with_Hyperparameter_Tuning)\n",
    "  * [5.9 XGBoost](#5.9_XGBoost)\n",
    "  * [5.10 Determine Best Model Performance](#5.10_Determine_Best_Model_Performance)\n",
    "  * [5.11 Holdout Predictions](#5.11_Holdout_Predictions)\n",
    "      * [5.11.1 Re-train Model](#5.11.1_Re-train_Model)\n",
    "      * [5.11.2 Predict on Holdout](#5.11.2_Predict_on_Holdout)\n",
    "  * [5.12 Summary](#5.12_Summary)"
   ]
  },
  {
   "cell_type": "markdown",
   "metadata": {},
   "source": [
    "## 5.2 Introduction<a id='5.2_Introduction'></a>"
   ]
  },
  {
   "cell_type": "markdown",
   "metadata": {},
   "source": [
    "In this notebook, I am going to choose a model to predict whether a loan will default. Then I will test my chosen model on the hold-out set. "
   ]
  },
  {
   "cell_type": "markdown",
   "metadata": {},
   "source": [
    "## 5.3 Imports<a id='5.3_Imports'></a>"
   ]
  },
  {
   "cell_type": "code",
   "execution_count": 1,
   "metadata": {},
   "outputs": [],
   "source": [
    "import numpy as np\n",
    "import pandas as pd\n",
    "import matplotlib.pyplot as plt\n",
    "from numpy import loadtxt\n",
    "from sklearn.model_selection import train_test_split\n",
    "from sklearn.preprocessing import MinMaxScaler\n",
    "from sklearn.pipeline import Pipeline\n",
    "from sklearn.dummy import DummyClassifier\n",
    "from sklearn.tree import DecisionTreeClassifier\n",
    "from sklearn.linear_model import LogisticRegression\n",
    "from sklearn.metrics import roc_curve, roc_auc_score, precision_score, recall_score, f1_score\n",
    "from sklearn.metrics import classification_report, confusion_matrix, plot_confusion_matrix\n",
    "from sklearn.model_selection import RandomizedSearchCV, GridSearchCV\n",
    "from sklearn.ensemble import RandomForestClassifier\n",
    "import xgboost as xgb"
   ]
  },
  {
   "cell_type": "markdown",
   "metadata": {},
   "source": [
    "## 5.4 Load Data<a id='5.4_Load_Data'></a>"
   ]
  },
  {
   "cell_type": "code",
   "execution_count": 2,
   "metadata": {},
   "outputs": [],
   "source": [
    "X_train = loadtxt('../data/X_train.csv', delimiter=',')\n",
    "X_test = loadtxt('../data/X_test.csv', delimiter=',')\n",
    "y_train = loadtxt('../data/y_train.csv', delimiter=',')\n",
    "y_test = loadtxt('../data/y_test.csv', delimiter=',')"
   ]
  },
  {
   "cell_type": "code",
   "execution_count": 3,
   "metadata": {},
   "outputs": [],
   "source": [
    "X = pd.read_csv('../data/features.csv', index_col = 'id')\n",
    "y = pd.read_csv('../data/labels.csv', index_col = 'id')"
   ]
  },
  {
   "cell_type": "code",
   "execution_count": 4,
   "metadata": {},
   "outputs": [],
   "source": [
    "y_train = y_train.astype(int)\n",
    "y_test = y_test.astype(int)"
   ]
  },
  {
   "cell_type": "markdown",
   "metadata": {},
   "source": [
    "## 5.5 Dummy Model<a id='5.5_Dummy_Model'></a>"
   ]
  },
  {
   "cell_type": "markdown",
   "metadata": {},
   "source": [
    "First I am going to define a function for displaying the classification report and confusion matrix for each of the models."
   ]
  },
  {
   "cell_type": "code",
   "execution_count": 5,
   "metadata": {},
   "outputs": [],
   "source": [
    "# adapted from https://gist.github.com/rajaraghav/43dc6ee38d8db48dfa47b3505d0b8a2b\n",
    "def print_score(true, pred, train=True):\n",
    "    if train:\n",
    "        clf_report = pd.DataFrame(classification_report(true, pred, output_dict=True))\n",
    "        print(\"Train Result:\\n================================================\")\n",
    "        print(f\"CLASSIFICATION REPORT:\\n{clf_report}\")\n",
    "        print(\"_______________________________________________\")\n",
    "        print(f\"Confusion Matrix: \\n {confusion_matrix(true, pred)}\\n\")\n",
    "        \n",
    "    elif train==False:\n",
    "        clf_report = pd.DataFrame(classification_report(true, pred, output_dict=True))\n",
    "        print(\"Test Result:\\n================================================\")        \n",
    "        print(f\"CLASSIFICATION REPORT:\\n{clf_report}\")\n",
    "        print(\"_______________________________________________\")\n",
    "        print(f\"Confusion Matrix: \\n {confusion_matrix(true, pred)}\\n\")"
   ]
  },
  {
   "cell_type": "code",
   "execution_count": 6,
   "metadata": {},
   "outputs": [
    {
     "data": {
      "text/plain": [
       "DummyClassifier(random_state=121, strategy='most_frequent')"
      ]
     },
     "execution_count": 6,
     "metadata": {},
     "output_type": "execute_result"
    }
   ],
   "source": [
    "dummy = DummyClassifier(strategy = 'most_frequent', random_state=121)\n",
    "dummy.fit(X, y)"
   ]
  },
  {
   "cell_type": "code",
   "execution_count": 7,
   "metadata": {},
   "outputs": [
    {
     "data": {
      "text/plain": [
       "0.9554118918760107"
      ]
     },
     "execution_count": 7,
     "metadata": {},
     "output_type": "execute_result"
    }
   ],
   "source": [
    "dummy.score(X, y)"
   ]
  },
  {
   "cell_type": "markdown",
   "metadata": {},
   "source": [
    ".score is calculating the accuracy of the model. This score of 0.95 shows exactly why accuracy cannot be used for this dataset. The percentage of defaults in this data is approximately 5%. So, even with this dummy model which is predicting no loan defaults, it is accurate 94.7% of the time. \n",
    "\n",
    "For loan defaults, we care about minimizing both false positives and false negatives. Predicting false positives means that lenders will not loan money to borrowers who would have actually paid back the loan. This loses money for the banks and lenders. Predicting false negatives means that the borrow will be lent money that will not be paid back, and also loses the bank money.\n",
    "\n",
    "The metrics that I will use to assess my model is the f1 score and the confusion matrix."
   ]
  },
  {
   "cell_type": "code",
   "execution_count": 8,
   "metadata": {},
   "outputs": [
    {
     "data": {
      "text/plain": [
       "0.0"
      ]
     },
     "execution_count": 8,
     "metadata": {},
     "output_type": "execute_result"
    }
   ],
   "source": [
    "f1_score(y, dummy.predict(X))"
   ]
  },
  {
   "cell_type": "markdown",
   "metadata": {},
   "source": [
    "Above, the f1 score is zero. This is exactly as expected and shows that this dummy model is useless for predicting loan defaults."
   ]
  },
  {
   "cell_type": "markdown",
   "metadata": {},
   "source": [
    "## 5.6 Decision Tree Classifier Model<a id='5.6_Decision_Tree_Classifier_Model'></a>"
   ]
  },
  {
   "cell_type": "code",
   "execution_count": 9,
   "metadata": {},
   "outputs": [
    {
     "data": {
      "text/plain": [
       "DecisionTreeClassifier()"
      ]
     },
     "execution_count": 9,
     "metadata": {},
     "output_type": "execute_result"
    }
   ],
   "source": [
    "tree = DecisionTreeClassifier(criterion='gini')\n",
    "tree.fit(X_train, y_train)"
   ]
  },
  {
   "cell_type": "code",
   "execution_count": 10,
   "metadata": {},
   "outputs": [],
   "source": [
    "y_pred_tree_train = tree.predict(X_train)"
   ]
  },
  {
   "cell_type": "code",
   "execution_count": 11,
   "metadata": {},
   "outputs": [],
   "source": [
    "y_pred_tree = tree.predict(X_test)"
   ]
  },
  {
   "cell_type": "code",
   "execution_count": 12,
   "metadata": {},
   "outputs": [
    {
     "name": "stdout",
     "output_type": "stream",
     "text": [
      "Train Result:\n",
      "================================================\n",
      "CLASSIFICATION REPORT:\n",
      "                  0         1  accuracy  macro avg  weighted avg\n",
      "precision       1.0       1.0       1.0        1.0           1.0\n",
      "recall          1.0       1.0       1.0        1.0           1.0\n",
      "f1-score        1.0       1.0       1.0        1.0           1.0\n",
      "support    364210.0  109263.0       1.0   473473.0      473473.0\n",
      "_______________________________________________\n",
      "Confusion Matrix: \n",
      " [[364210      0]\n",
      " [     0 109263]]\n",
      "\n"
     ]
    }
   ],
   "source": [
    "print_score(y_train, y_pred_tree_train, train=True)"
   ]
  },
  {
   "cell_type": "code",
   "execution_count": 13,
   "metadata": {},
   "outputs": [
    {
     "name": "stdout",
     "output_type": "stream",
     "text": [
      "Test Result:\n",
      "================================================\n",
      "CLASSIFICATION REPORT:\n",
      "                       0             1  accuracy      macro avg   weighted avg\n",
      "precision       0.964166      0.152194  0.903078       0.558180       0.927961\n",
      "recall          0.933240      0.256795  0.903078       0.595018       0.903078\n",
      "f1-score        0.948451      0.191118  0.903078       0.569785       0.914683\n",
      "support    234137.000000  10927.000000  0.903078  245064.000000  245064.000000\n",
      "_______________________________________________\n",
      "Confusion Matrix: \n",
      " [[218506  15631]\n",
      " [  8121   2806]]\n",
      "\n"
     ]
    }
   ],
   "source": [
    "print_score(y_test, y_pred_tree, train=False)"
   ]
  },
  {
   "cell_type": "markdown",
   "metadata": {},
   "source": [
    "This basic decision tree model is obviously overfitting to the training data and is not performing well for the test set. Let's see if there is a better model. "
   ]
  },
  {
   "cell_type": "markdown",
   "metadata": {},
   "source": [
    "## 5.7 Logistic Regression<a id='5.7_Logistic_Regression'></a>"
   ]
  },
  {
   "cell_type": "markdown",
   "metadata": {},
   "source": [
    "### 5.7.1 Basic Logistic Regression Model<a id='5.7.1_Basic_Logistic_Regression_Model'></a>"
   ]
  },
  {
   "cell_type": "markdown",
   "metadata": {},
   "source": [
    "To run the basic logistic regression model, I need to first dummy encode the categorical variables. The X, y data is the features and labeled data before being split into training and test sets. "
   ]
  },
  {
   "cell_type": "code",
   "execution_count": 14,
   "metadata": {},
   "outputs": [],
   "source": [
    "for col in ['sub_grade', 'home_ownership', 'verification_status', 'purpose', 'addr_state', 'earliest_cr_line_year', \n",
    "            'last_credit_pull_d_year']:\n",
    "    X[col] = X[col].astype('category')"
   ]
  },
  {
   "cell_type": "code",
   "execution_count": 15,
   "metadata": {},
   "outputs": [
    {
     "data": {
      "text/plain": [
       "(816877, 191)"
      ]
     },
     "execution_count": 15,
     "metadata": {},
     "output_type": "execute_result"
    }
   ],
   "source": [
    "X = pd.get_dummies(X, drop_first=True)\n",
    "X.shape"
   ]
  },
  {
   "cell_type": "code",
   "execution_count": 16,
   "metadata": {},
   "outputs": [],
   "source": [
    "XD, XD_test, yD, yD_test = train_test_split(X, y, test_size=0.3, random_state=100, stratify=y)"
   ]
  },
  {
   "cell_type": "code",
   "execution_count": 17,
   "metadata": {},
   "outputs": [],
   "source": [
    "yD = yD.to_numpy().ravel().astype(int)\n",
    "yD_test = yD_test.to_numpy().ravel().astype(int)"
   ]
  },
  {
   "cell_type": "code",
   "execution_count": 18,
   "metadata": {},
   "outputs": [
    {
     "data": {
      "text/plain": [
       "Pipeline(steps=[('scaler', MinMaxScaler()),\n",
       "                ('logreg', LogisticRegression(max_iter=500))])"
      ]
     },
     "execution_count": 18,
     "metadata": {},
     "output_type": "execute_result"
    }
   ],
   "source": [
    "steps = [('scaler', MinMaxScaler()),\n",
    "        ('logreg', LogisticRegression(max_iter=500))]\n",
    "pipeline_logreg = Pipeline(steps)\n",
    "pipeline_logreg.fit(XD, yD)"
   ]
  },
  {
   "cell_type": "code",
   "execution_count": 19,
   "metadata": {},
   "outputs": [
    {
     "name": "stdout",
     "output_type": "stream",
     "text": [
      "Train Result:\n",
      "================================================\n",
      "CLASSIFICATION REPORT:\n",
      "                       0             1  accuracy      macro avg   weighted avg\n",
      "precision       0.956277      0.509896  0.955449       0.733087       0.936374\n",
      "recall          0.999048      0.021219  0.955449       0.510134       0.955449\n",
      "f1-score        0.977195      0.040743  0.955449       0.508969       0.935440\n",
      "support    546317.000000  25496.000000  0.955449  571813.000000  571813.000000\n",
      "_______________________________________________\n",
      "Confusion Matrix: \n",
      " [[545797    520]\n",
      " [ 24955    541]]\n",
      "\n"
     ]
    }
   ],
   "source": [
    "y_pred_logreg_train = pipeline_logreg.predict(XD)\n",
    "print_score(yD, y_pred_logreg_train, train=True)"
   ]
  },
  {
   "cell_type": "code",
   "execution_count": 20,
   "metadata": {},
   "outputs": [
    {
     "name": "stdout",
     "output_type": "stream",
     "text": [
      "Test Result:\n",
      "================================================\n",
      "CLASSIFICATION REPORT:\n",
      "                       0             1  accuracy      macro avg   weighted avg\n",
      "precision       0.956296      0.535147  0.955538       0.745722       0.937518\n",
      "recall          0.999124      0.021598  0.955538       0.510361       0.955538\n",
      "f1-score        0.977241      0.041520  0.955538       0.509381       0.935519\n",
      "support    234137.000000  10927.000000  0.955538  245064.000000  245064.000000\n",
      "_______________________________________________\n",
      "Confusion Matrix: \n",
      " [[233932    205]\n",
      " [ 10691    236]]\n",
      "\n"
     ]
    }
   ],
   "source": [
    "y_pred_logreg = pipeline_logreg.predict(XD_test)\n",
    "print_score(yD_test, y_pred_logreg, train=False)"
   ]
  },
  {
   "cell_type": "code",
   "execution_count": 21,
   "metadata": {},
   "outputs": [
    {
     "name": "stdout",
     "output_type": "stream",
     "text": [
      "The basic Logistic Regression test AUC is:  0.5103611605272644\n"
     ]
    }
   ],
   "source": [
    "print('The basic Logistic Regression test AUC is: ', roc_auc_score(yD_test, y_pred_logreg))"
   ]
  },
  {
   "cell_type": "markdown",
   "metadata": {},
   "source": [
    "The scores for the basic logistic regression model are similar to the basic decision tree but much more consistant between the training predictions and the test predictions. I am going to try to do some hyperparameter tuning to see if I can improve this model."
   ]
  },
  {
   "cell_type": "markdown",
   "metadata": {},
   "source": [
    "### 5.7.2 Logistic Regression with Hyperparameter Tuning<a id='5.7.2_Logistic_Regression_with_Hyperparameter_Tuning'></a>"
   ]
  },
  {
   "cell_type": "markdown",
   "metadata": {},
   "source": [
    "This hyperparameter tuning was adapted from - https://machinelearningmastery.com/hyperparameters-for-classification-machine-learning-algorithms/"
   ]
  },
  {
   "cell_type": "code",
   "execution_count": 22,
   "metadata": {},
   "outputs": [],
   "source": [
    "# define models and parameters\n",
    "steps = [('scaler', MinMaxScaler()),\n",
    "        ('logreg', LogisticRegression(max_iter=1000))]\n",
    "\n",
    "pipeline = Pipeline(steps)\n",
    "\n",
    "logreg_grid = {\n",
    "    'logreg__solver': ['lbfgs', 'saga'],\n",
    "    'logreg__C': [0.1, 0.01, 0.009],\n",
    "    'logreg__class_weight': ['balanced', None]\n",
    "}\n",
    "\n",
    "# define grid search\n",
    "lr_grid_search = GridSearchCV(estimator=pipeline, param_grid=logreg_grid, n_jobs=-1, cv=3, scoring='precision_macro',error_score=0)\n",
    "lr_grid_result = lr_grid_search.fit(XD, yD)"
   ]
  },
  {
   "cell_type": "code",
   "execution_count": 23,
   "metadata": {},
   "outputs": [
    {
     "data": {
      "text/plain": [
       "{'logreg__C': 0.009, 'logreg__class_weight': None, 'logreg__solver': 'lbfgs'}"
      ]
     },
     "execution_count": 23,
     "metadata": {},
     "output_type": "execute_result"
    }
   ],
   "source": [
    "lr_grid_search.best_params_"
   ]
  },
  {
   "cell_type": "code",
   "execution_count": 24,
   "metadata": {},
   "outputs": [
    {
     "name": "stdout",
     "output_type": "stream",
     "text": [
      "Train Result:\n",
      "================================================\n",
      "CLASSIFICATION REPORT:\n",
      "                       0             1  accuracy      macro avg   weighted avg\n",
      "precision       0.955957      0.605405  0.955617       0.780681       0.940326\n",
      "recall          0.999599      0.013179  0.955617       0.506389       0.955617\n",
      "f1-score        0.977291      0.025796  0.955617       0.501543       0.934866\n",
      "support    546317.000000  25496.000000  0.955617  571813.000000  571813.000000\n",
      "_______________________________________________\n",
      "Confusion Matrix: \n",
      " [[546098    219]\n",
      " [ 25160    336]]\n",
      "\n"
     ]
    }
   ],
   "source": [
    "lr_grid_pred_train = lr_grid_search.predict(XD)\n",
    "print_score(yD, lr_grid_pred_train, train=True)"
   ]
  },
  {
   "cell_type": "code",
   "execution_count": 25,
   "metadata": {},
   "outputs": [
    {
     "name": "stdout",
     "output_type": "stream",
     "text": [
      "Test Result:\n",
      "================================================\n",
      "CLASSIFICATION REPORT:\n",
      "                       0             1  accuracy      macro avg   weighted avg\n",
      "precision       0.955906      0.579646  0.955559       0.767776       0.939129\n",
      "recall          0.999594      0.011989  0.955559       0.505791       0.955559\n",
      "f1-score        0.977262      0.023491  0.955559       0.500377       0.934735\n",
      "support    234137.000000  10927.000000  0.955559  245064.000000  245064.000000\n",
      "_______________________________________________\n",
      "Confusion Matrix: \n",
      " [[234042     95]\n",
      " [ 10796    131]]\n",
      "\n"
     ]
    }
   ],
   "source": [
    "lr_grid_pred = lr_grid_search.predict(XD_test)\n",
    "print_score(yD_test, lr_grid_pred, train=False)"
   ]
  },
  {
   "cell_type": "code",
   "execution_count": 26,
   "metadata": {},
   "outputs": [
    {
     "name": "stdout",
     "output_type": "stream",
     "text": [
      "The tuned Logistic Regression test AUC is:  0.5063888358230343\n"
     ]
    }
   ],
   "source": [
    "print('The tuned Logistic Regression test AUC is: ', roc_auc_score(yD, lr_grid_pred_train))"
   ]
  },
  {
   "cell_type": "code",
   "execution_count": 27,
   "metadata": {},
   "outputs": [
    {
     "name": "stdout",
     "output_type": "stream",
     "text": [
      "The tuned Logistic Regression training AUC is:  0.5057914533044059\n"
     ]
    }
   ],
   "source": [
    "print('The tuned Logistic Regression training AUC is: ', roc_auc_score(yD_test, lr_grid_pred))"
   ]
  },
  {
   "cell_type": "markdown",
   "metadata": {},
   "source": [
    "This tuned model does not perform any better than the basic logistic regression model. While these models do not perform well, they are predicting more true positives (defaulted loans) than false positives. The model that is chosen will need to predict more true positives than false because otherwise, it would not make business sense to deploy the model. If the model predicts more false positives than true positives, Lending Club would lose more money by rejecting loan applications than they would for defaulted loans. "
   ]
  },
  {
   "cell_type": "markdown",
   "metadata": {},
   "source": [
    "## 5.8 Random Forest<a id='5.8_Random_Forest'></a> "
   ]
  },
  {
   "cell_type": "markdown",
   "metadata": {},
   "source": [
    "Next, I am going to see if random forest can give better predictions than logistic regression."
   ]
  },
  {
   "cell_type": "markdown",
   "metadata": {},
   "source": [
    "### 5.8.1 Basic Random Forest Model<a id='5.8.1_Basic_Random_Forest_Model'></a> "
   ]
  },
  {
   "cell_type": "code",
   "execution_count": 28,
   "metadata": {},
   "outputs": [],
   "source": [
    "rf_clf = RandomForestClassifier(n_estimators=100)\n",
    "rf_clf.fit(X_train, y_train)\n",
    "\n",
    "y_tr_pred = rf_clf.predict(X_train)\n",
    "y_t_pred = rf_clf.predict(X_test)"
   ]
  },
  {
   "cell_type": "code",
   "execution_count": 29,
   "metadata": {},
   "outputs": [
    {
     "name": "stdout",
     "output_type": "stream",
     "text": [
      "Train Result:\n",
      "================================================\n",
      "CLASSIFICATION REPORT:\n",
      "                       0              1  accuracy      macro avg  \\\n",
      "precision       0.999995       1.000000  0.999996       0.999997   \n",
      "recall          1.000000       0.999982  0.999996       0.999991   \n",
      "f1-score        0.999997       0.999991  0.999996       0.999994   \n",
      "support    364210.000000  109263.000000  0.999996  473473.000000   \n",
      "\n",
      "            weighted avg  \n",
      "precision       0.999996  \n",
      "recall          0.999996  \n",
      "f1-score        0.999996  \n",
      "support    473473.000000  \n",
      "_______________________________________________\n",
      "Confusion Matrix: \n",
      " [[364210      0]\n",
      " [     2 109261]]\n",
      "\n",
      "Test Result:\n",
      "================================================\n",
      "CLASSIFICATION REPORT:\n",
      "                       0             1  accuracy      macro avg   weighted avg\n",
      "precision       0.962081      0.383024   0.95089       0.672552       0.936262\n",
      "recall          0.987520      0.166011   0.95089       0.576765       0.950890\n",
      "f1-score        0.974635      0.231629   0.95089       0.603132       0.941505\n",
      "support    234137.000000  10927.000000   0.95089  245064.000000  245064.000000\n",
      "_______________________________________________\n",
      "Confusion Matrix: \n",
      " [[231215   2922]\n",
      " [  9113   1814]]\n",
      "\n"
     ]
    }
   ],
   "source": [
    "print_score(y_train, y_tr_pred, train=True)\n",
    "print_score(y_test, y_t_pred, train=False)"
   ]
  },
  {
   "cell_type": "code",
   "execution_count": 30,
   "metadata": {},
   "outputs": [
    {
     "name": "stdout",
     "output_type": "stream",
     "text": [
      "The Basic RF test AUC is:  0.5767654630217403\n"
     ]
    }
   ],
   "source": [
    "print('The Basic RF test AUC is: ', roc_auc_score(y_test, y_t_pred))"
   ]
  },
  {
   "cell_type": "markdown",
   "metadata": {},
   "source": [
    "The basic Random Forest model is predicting more false positives in the test set than true positives. I will try to do some hyperparameter tuning to see if it could do better."
   ]
  },
  {
   "cell_type": "markdown",
   "metadata": {},
   "source": [
    "### 5.8.2 Random Forest with Hyperparameter Tuning<a id='5.8.2_Random_Forest_with_Hyperparameter_Tuning'></a>"
   ]
  },
  {
   "cell_type": "markdown",
   "metadata": {},
   "source": [
    "The following random forest hyperparameter tuning was taken from https://towardsdatascience.com/hyperparameter-tuning-the-random-forest-in-python-using-scikit-learn-28d2aa77dd74"
   ]
  },
  {
   "cell_type": "code",
   "execution_count": 31,
   "metadata": {},
   "outputs": [
    {
     "name": "stdout",
     "output_type": "stream",
     "text": [
      "{'n_estimators': [100, 200], 'max_features': ['auto', 'sqrt'], 'max_depth': [10, 17, 25, 32, 40, None], 'min_samples_split': [2, 4], 'bootstrap': [True, False]}\n"
     ]
    }
   ],
   "source": [
    "# Number of trees in random forest\n",
    "n_estimators = [100, 200]\n",
    "# Number of features to consider at every split\n",
    "max_features = ['auto', 'sqrt']\n",
    "# Maximum number of levels in tree\n",
    "max_depth = [int(x) for x in np.linspace(10, 40, num = 5)]\n",
    "max_depth.append(None)\n",
    "# Minimum number of samples required to split a node\n",
    "min_samples_split = [2, 4]\n",
    "# Method of selecting samples for training each tree\n",
    "bootstrap = [True, False]\n",
    "# Create the random grid\n",
    "random_grid = {'n_estimators': n_estimators,\n",
    "               'max_features': max_features,\n",
    "               'max_depth': max_depth,\n",
    "               'min_samples_split': min_samples_split,\n",
    "               'bootstrap': bootstrap}\n",
    "print(random_grid)"
   ]
  },
  {
   "cell_type": "code",
   "execution_count": 32,
   "metadata": {},
   "outputs": [
    {
     "name": "stdout",
     "output_type": "stream",
     "text": [
      "Fitting 3 folds for each of 15 candidates, totalling 45 fits\n"
     ]
    },
    {
     "data": {
      "text/plain": [
       "RandomizedSearchCV(cv=3, estimator=RandomForestClassifier(), n_iter=15,\n",
       "                   n_jobs=-1,\n",
       "                   param_distributions={'bootstrap': [True, False],\n",
       "                                        'max_depth': [10, 17, 25, 32, 40, None],\n",
       "                                        'max_features': ['auto', 'sqrt'],\n",
       "                                        'min_samples_split': [2, 4],\n",
       "                                        'n_estimators': [100, 200]},\n",
       "                   random_state=42, scoring='precision_macro', verbose=2)"
      ]
     },
     "execution_count": 32,
     "metadata": {},
     "output_type": "execute_result"
    }
   ],
   "source": [
    "# Use the random grid to search for best hyperparameters\n",
    "# First create the base model to tune\n",
    "rf2 = RandomForestClassifier()\n",
    "# Random search of parameters, using 3 fold cross validation, \n",
    "# search across 100 different combinations, and use all available cores\n",
    "rf2_random = RandomizedSearchCV(estimator = rf2, param_distributions = random_grid, n_iter = 15, cv = 3, verbose=2, random_state=42, n_jobs = -1, scoring='precision_macro')\n",
    "# Fit the random search model\n",
    "rf2_random.fit(X_train, y_train)"
   ]
  },
  {
   "cell_type": "code",
   "execution_count": 33,
   "metadata": {},
   "outputs": [
    {
     "data": {
      "text/plain": [
       "{'n_estimators': 100,\n",
       " 'min_samples_split': 2,\n",
       " 'max_features': 'auto',\n",
       " 'max_depth': 40,\n",
       " 'bootstrap': False}"
      ]
     },
     "execution_count": 33,
     "metadata": {},
     "output_type": "execute_result"
    }
   ],
   "source": [
    "rf2_random.best_params_"
   ]
  },
  {
   "cell_type": "code",
   "execution_count": 34,
   "metadata": {},
   "outputs": [],
   "source": [
    "y_train_pred_forest2 = rf2_random.best_estimator_.predict(X_train)\n",
    "y_test_pred_forest2 = rf2_random.best_estimator_.predict(X_test)"
   ]
  },
  {
   "cell_type": "code",
   "execution_count": 35,
   "metadata": {},
   "outputs": [
    {
     "name": "stdout",
     "output_type": "stream",
     "text": [
      "Train Result:\n",
      "================================================\n",
      "CLASSIFICATION REPORT:\n",
      "                  0         1  accuracy  macro avg  weighted avg\n",
      "precision       1.0       1.0       1.0        1.0           1.0\n",
      "recall          1.0       1.0       1.0        1.0           1.0\n",
      "f1-score        1.0       1.0       1.0        1.0           1.0\n",
      "support    364210.0  109263.0       1.0   473473.0      473473.0\n",
      "_______________________________________________\n",
      "Confusion Matrix: \n",
      " [[364210      0]\n",
      " [     0 109263]]\n",
      "\n",
      "Test Result:\n",
      "================================================\n",
      "CLASSIFICATION REPORT:\n",
      "                       0             1  accuracy      macro avg   weighted avg\n",
      "precision       0.961347      0.400000  0.952127       0.680673       0.936317\n",
      "recall          0.989686      0.147341  0.952127       0.568513       0.952127\n",
      "f1-score        0.975310      0.215356  0.952127       0.595333       0.941425\n",
      "support    234137.000000  10927.000000  0.952127  245064.000000  245064.000000\n",
      "_______________________________________________\n",
      "Confusion Matrix: \n",
      " [[231722   2415]\n",
      " [  9317   1610]]\n",
      "\n"
     ]
    }
   ],
   "source": [
    "print_score(y_train, y_train_pred_forest2, train=True)\n",
    "print_score(y_test, y_test_pred_forest2, train=False)"
   ]
  },
  {
   "cell_type": "code",
   "execution_count": 36,
   "metadata": {},
   "outputs": [
    {
     "name": "stdout",
     "output_type": "stream",
     "text": [
      "The tuned RF test AUC is:  0.5685134868926713\n"
     ]
    }
   ],
   "source": [
    "print('The tuned RF test AUC is: ', roc_auc_score(y_test, y_test_pred_forest2))"
   ]
  },
  {
   "cell_type": "markdown",
   "metadata": {},
   "source": [
    "The hyperparameter tuning of the Random Forest model did not improve on the performance of the basic model. I am going to try XGBoost next. "
   ]
  },
  {
   "cell_type": "markdown",
   "metadata": {},
   "source": [
    "## 5.9 XGBoost<a id='5.9_XGBoost'></a>"
   ]
  },
  {
   "cell_type": "code",
   "execution_count": 37,
   "metadata": {},
   "outputs": [],
   "source": [
    "# Create the parameter grid: xgb_param_grid \n",
    "xgb_param_grid = {\n",
    "    'objective': ['reg:logistic'],\n",
    "    'colsample_bytree': [0.3, 0.7, 0.8],\n",
    "    'n_estimators': [35, 50],\n",
    "    'max_depth': [7, 10, 15],\n",
    "    'eta': [0.01, 0.1, 0.2, 0.3],\n",
    "}\n",
    "\n",
    "# Instantiate the regressor: xgb\n",
    "xgb_cl = xgb.XGBClassifier(eval_metric='aucpr', use_label_encoder=False)\n",
    "\n",
    "# Perform random search: grid_xgb\n",
    "grid_xgb = GridSearchCV(xgb_cl, param_grid=xgb_param_grid, cv=3, verbose=1, scoring=\"precision_macro\")"
   ]
  },
  {
   "cell_type": "code",
   "execution_count": 38,
   "metadata": {},
   "outputs": [
    {
     "name": "stdout",
     "output_type": "stream",
     "text": [
      "Fitting 3 folds for each of 72 candidates, totalling 216 fits\n",
      "Best parameters found:  {'colsample_bytree': 0.3, 'eta': 0.1, 'max_depth': 15, 'n_estimators': 35, 'objective': 'reg:logistic'}\n"
     ]
    }
   ],
   "source": [
    "# Fit grid_xgb to the data\n",
    "grid_xgb.fit(X_train, y_train)\n",
    "\n",
    "# Print the best parameters found\n",
    "print(\"Best parameters found: \", grid_xgb.best_params_)"
   ]
  },
  {
   "cell_type": "code",
   "execution_count": 39,
   "metadata": {},
   "outputs": [],
   "source": [
    "y_train_pred = grid_xgb.predict(X_train)\n",
    "y_test_pred = grid_xgb.predict(X_test)"
   ]
  },
  {
   "cell_type": "code",
   "execution_count": 40,
   "metadata": {},
   "outputs": [
    {
     "name": "stdout",
     "output_type": "stream",
     "text": [
      "Train Result:\n",
      "================================================\n",
      "CLASSIFICATION REPORT:\n",
      "                       0              1  accuracy      macro avg  \\\n",
      "precision       0.933538       0.999748  0.945194       0.966643   \n",
      "recall          0.999942       0.762701  0.945194       0.881322   \n",
      "f1-score        0.965600       0.865283  0.945194       0.915442   \n",
      "support    364210.000000  109263.000000  0.945194  473473.000000   \n",
      "\n",
      "            weighted avg  \n",
      "precision       0.948817  \n",
      "recall          0.945194  \n",
      "f1-score        0.942450  \n",
      "support    473473.000000  \n",
      "_______________________________________________\n",
      "Confusion Matrix: \n",
      " [[364189     21]\n",
      " [ 25928  83335]]\n",
      "\n",
      "Test Result:\n",
      "================================================\n",
      "CLASSIFICATION REPORT:\n",
      "                       0             1  accuracy      macro avg   weighted avg\n",
      "precision       0.955605      0.629630  0.955497       0.792617       0.941070\n",
      "recall          0.999872      0.004667  0.955497       0.502270       0.955497\n",
      "f1-score        0.977237      0.009266  0.955497       0.493252       0.934077\n",
      "support    234137.000000  10927.000000  0.955497  245064.000000  245064.000000\n",
      "_______________________________________________\n",
      "Confusion Matrix: \n",
      " [[234107     30]\n",
      " [ 10876     51]]\n",
      "\n"
     ]
    }
   ],
   "source": [
    "print_score(y_train, y_train_pred, train=True)\n",
    "print_score(y_test, y_test_pred, train=False)"
   ]
  },
  {
   "cell_type": "code",
   "execution_count": 41,
   "metadata": {},
   "outputs": [
    {
     "name": "stdout",
     "output_type": "stream",
     "text": [
      "The XGBoost training AUC is:  0.8813216733935549\n"
     ]
    }
   ],
   "source": [
    "print('The XGBoost training AUC is: ', roc_auc_score(y_train, y_train_pred))"
   ]
  },
  {
   "cell_type": "code",
   "execution_count": 42,
   "metadata": {},
   "outputs": [
    {
     "name": "stdout",
     "output_type": "stream",
     "text": [
      "The XGBoost test AUC is:  0.5022696038376375\n"
     ]
    }
   ],
   "source": [
    "print('The XGBoost test AUC is: ', roc_auc_score(y_test, y_test_pred))"
   ]
  },
  {
   "cell_type": "markdown",
   "metadata": {},
   "source": [
    "XGBoost is performing similarly to the logistic regression models.  "
   ]
  },
  {
   "cell_type": "markdown",
   "metadata": {},
   "source": [
    "## 5.10 Determine Best Model Performance<a id='5.10_Determine_Best_Model_Performance'></a>"
   ]
  },
  {
   "cell_type": "markdown",
   "metadata": {},
   "source": [
    "To determine the best model performance, I am going to plot each of the test ROCs and see which model performed best."
   ]
  },
  {
   "cell_type": "markdown",
   "metadata": {},
   "source": [
    "Logistic Regression:\n",
    "lr_grid_pred\n",
    "lr_grid_pred_train"
   ]
  },
  {
   "cell_type": "code",
   "execution_count": 43,
   "metadata": {},
   "outputs": [
    {
     "data": {
      "image/png": "[encoded data removed]",
      "text/plain": [
       "<Figure size 432x288 with 1 Axes>"
      ]
     },
     "metadata": {
      "needs_background": "light"
     },
     "output_type": "display_data"
    }
   ],
   "source": [
    "# Plot the ROC curve \n",
    "fpr, tpr, thresholds = roc_curve(y_test, y_test_pred)\n",
    "fpr1, tpr1, thresholds1 = roc_curve(yD_test, y_pred_logreg)\n",
    "plt.plot([0,1], [0,1], 'k--')\n",
    "plt.plot(fpr, tpr, label='XGBoost')\n",
    "plt.plot(fpr1, tpr1, label='Logistic Regression')\n",
    "plt.xlabel('False Positive Rate')\n",
    "plt.ylabel('True Positive Rate')\n",
    "plt.legend()\n",
    "plt.title('Model ROC Test Curves')\n",
    "plt.show()"
   ]
  },
  {
   "cell_type": "code",
   "execution_count": 48,
   "metadata": {},
   "outputs": [
    {
     "data": {
      "text/plain": [
       "<sklearn.metrics._plot.precision_recall_curve.PrecisionRecallDisplay at 0x1e93cdc5790>"
      ]
     },
     "execution_count": 48,
     "metadata": {},
     "output_type": "execute_result"
    },
    {
     "data": {
      "image/png": "[encoded data removed]",
      "text/plain": [
       "<Figure size 432x288 with 1 Axes>"
      ]
     },
     "metadata": {
      "needs_background": "light"
     },
     "output_type": "display_data"
    }
   ],
   "source": [
    "from sklearn.metrics import plot_precision_recall_curve\n",
    "\n",
    "plot_precision_recall_curve(grid_xgb, X_test, y_test, name='XGBoost Precision Recall')"
   ]
  },
  {
   "cell_type": "code",
   "execution_count": 49,
   "metadata": {},
   "outputs": [
    {
     "data": {
      "text/plain": [
       "<sklearn.metrics._plot.precision_recall_curve.PrecisionRecallDisplay at 0x1e93cdb7580>"
      ]
     },
     "execution_count": 49,
     "metadata": {},
     "output_type": "execute_result"
    },
    {
     "data": {
      "image/png": "[encoded data removed]",
      "text/plain": [
       "<Figure size 432x288 with 1 Axes>"
      ]
     },
     "metadata": {
      "needs_background": "light"
     },
     "output_type": "display_data"
    }
   ],
   "source": [
    "plot_precision_recall_curve(pipeline_logreg, XD_test, yD_test, name='Logistic Regression Precision Recall')"
   ]
  },
  {
   "cell_type": "markdown",
   "metadata": {},
   "source": [
    "Based on the ROC curves and the precision recall curves, I am going to train the logistic regression model on all of the data and then use that model to predict the holdout set. "
   ]
  },
  {
   "cell_type": "markdown",
   "metadata": {},
   "source": [
    "## 5.11 Holdout Predictions<a id='5.11_Holdout_Predictions'></a>"
   ]
  },
  {
   "cell_type": "code",
   "execution_count": 50,
   "metadata": {},
   "outputs": [],
   "source": [
    "X_holdout = pd.read_csv('../holdout_data/X_holdout.csv', index_col='id')\n",
    "y_holdout = pd.read_csv('../holdout_data/y_holdout.csv')\n",
    "\n",
    "y_holdout.drop('id', axis=1, inplace=True)"
   ]
  },
  {
   "cell_type": "code",
   "execution_count": 51,
   "metadata": {},
   "outputs": [],
   "source": [
    "y_holdout = y_holdout.to_numpy().ravel().astype(int)"
   ]
  },
  {
   "cell_type": "code",
   "execution_count": 56,
   "metadata": {},
   "outputs": [],
   "source": [
    "all_X = pd.read_csv('../data/all_X_df.csv', index_col='id')\n",
    "all_y = pd.read_csv('../data/all_y_df.csv')\n",
    "\n",
    "all_y.drop('id', axis=1, inplace=True)"
   ]
  },
  {
   "cell_type": "code",
   "execution_count": 57,
   "metadata": {},
   "outputs": [],
   "source": [
    "all_y = all_y.to_numpy().ravel().astype(int)"
   ]
  },
  {
   "cell_type": "markdown",
   "metadata": {},
   "source": [
    "### 5.11.1 Re-train Model<a id='5.11.1_Re-train_Model'></a>"
   ]
  },
  {
   "cell_type": "code",
   "execution_count": 58,
   "metadata": {},
   "outputs": [
    {
     "data": {
      "text/plain": [
       "Pipeline(steps=[('scaler', MinMaxScaler()),\n",
       "                ('logreg', LogisticRegression(max_iter=500))])"
      ]
     },
     "execution_count": 58,
     "metadata": {},
     "output_type": "execute_result"
    }
   ],
   "source": [
    "all_X = pd.get_dummies(all_X, drop_first=True)\n",
    "\n",
    "steps = [('scaler', MinMaxScaler()),\n",
    "        ('logreg', LogisticRegression(max_iter=500))]\n",
    "\n",
    "all_data_logreg = Pipeline(steps)\n",
    "all_data_logreg.fit(all_X, all_y)"
   ]
  },
  {
   "cell_type": "markdown",
   "metadata": {},
   "source": [
    "### 5.11.2 Predict on Holdout<a id='5.11.2_Predict_on_Holdout'></a>"
   ]
  },
  {
   "cell_type": "code",
   "execution_count": 59,
   "metadata": {},
   "outputs": [],
   "source": [
    "holdout_prediction = all_data_logreg.predict(X_holdout)"
   ]
  },
  {
   "cell_type": "code",
   "execution_count": 60,
   "metadata": {},
   "outputs": [
    {
     "name": "stdout",
     "output_type": "stream",
     "text": [
      "Test Result:\n",
      "================================================\n",
      "CLASSIFICATION REPORT:\n",
      "                       0             1  accuracy      macro avg   weighted avg\n",
      "precision       0.956463      0.103230  0.877661       0.529847       0.914613\n",
      "recall          0.912905      0.194375  0.877661       0.553640       0.877661\n",
      "f1-score        0.934177      0.134845  0.877661       0.534511       0.894970\n",
      "support    721738.000000  37227.000000  0.877661  758965.000000  758965.000000\n",
      "_______________________________________________\n",
      "Confusion Matrix: \n",
      " [[658878  62860]\n",
      " [ 29991   7236]]\n",
      "\n"
     ]
    }
   ],
   "source": [
    "print_score(y_holdout, holdout_prediction, train=False)"
   ]
  },
  {
   "cell_type": "code",
   "execution_count": 65,
   "metadata": {},
   "outputs": [
    {
     "data": {
      "image/png": "[encoded data removed]",
      "text/plain": [
       "<Figure size 432x288 with 1 Axes>"
      ]
     },
     "metadata": {
      "needs_background": "light"
     },
     "output_type": "display_data"
    }
   ],
   "source": [
    "# Plot the ROC curve \n",
    "fpr, tpr, thresholds = roc_curve(y_holdout, holdout_prediction)\n",
    "plt.plot([0,1], [0,1], 'k--')\n",
    "plt.plot(fpr, tpr)\n",
    "plt.xlabel('False Positive Rate')\n",
    "plt.ylabel('True Positive Rate')\n",
    "plt.title('ROC of Holdout Predictions')\n",
    "plt.show()"
   ]
  },
  {
   "cell_type": "code",
   "execution_count": 66,
   "metadata": {},
   "outputs": [
    {
     "data": {
      "text/plain": [
       "<sklearn.metrics._plot.confusion_matrix.ConfusionMatrixDisplay at 0x1e94443bbb0>"
      ]
     },
     "execution_count": 66,
     "metadata": {},
     "output_type": "execute_result"
    },
    {
     "data": {
      "image/png": "[encoded data removed]",
      "text/plain": [
       "<Figure size 432x288 with 2 Axes>"
      ]
     },
     "metadata": {
      "needs_background": "light"
     },
     "output_type": "display_data"
    }
   ],
   "source": [
    "plot_confusion_matrix(all_data_logreg, X_holdout, y_holdout)"
   ]
  },
  {
   "cell_type": "markdown",
   "metadata": {},
   "source": [
    "## 5.12 Summary<a id='5.12_Summary'></a>"
   ]
  },
  {
   "cell_type": "markdown",
   "metadata": {},
   "source": [
    "The predictions on the holdout data, using the logistic regression model, are not useful since it predicted approximately 55,000 more false defaults than true defaults. "
   ]
  },
  {
   "cell_type": "code",
   "execution_count": null,
   "metadata": {},
   "outputs": [],
   "source": []
  }
 ],
 "metadata": {
  "kernelspec": {
   "display_name": "Python 3",
   "language": "python",
   "name": "python3"
  },
  "language_info": {
   "codemirror_mode": {
    "name": "ipython",
    "version": 3
   },
   "file_extension": ".py",
   "mimetype": "text/x-python",
   "name": "python",
   "nbconvert_exporter": "python",
   "pygments_lexer": "ipython3",
   "version": "3.8.5"
  }
 },
 "nbformat": 4,
 "nbformat_minor": 4
}
